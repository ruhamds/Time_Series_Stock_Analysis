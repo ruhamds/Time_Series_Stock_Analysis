{
 "cells": [
  {
   "cell_type": "code",
   "execution_count": 1,
   "id": "4a643994",
   "metadata": {},
   "outputs": [
    {
     "name": "stdout",
     "output_type": "stream",
     "text": [
      "=== TASK 4: PORTFOLIO OPTIMIZATION ===\n",
      "Using Modern Portfolio Theory to optimize portfolio based on forecasts\n",
      "\n"
     ]
    }
   ],
   "source": [
    "import yfinance as yf\n",
    "import pandas as pd\n",
    "import numpy as np\n",
    "import matplotlib.pyplot as plt\n",
    "from scipy.optimize import minimize\n",
    "import seaborn as sns\n",
    "from datetime import datetime, timedelta\n",
    "\n",
    "# Set style for better plots\n",
    "plt.style.use('seaborn-v0_8')\n",
    "sns.set_palette(\"husl\")\n",
    "\n",
    "print(\"=== TASK 4: PORTFOLIO OPTIMIZATION ===\")\n",
    "print(\"Using Modern Portfolio Theory to optimize portfolio based on forecasts\\n\")\n"
   ]
  },
  {
   "cell_type": "code",
   "execution_count": 2,
   "id": "4b6615d4",
   "metadata": {},
   "outputs": [
    {
     "name": "stdout",
     "output_type": "stream",
     "text": [
      "Step 1: Loading Historical Data\n",
      "----------------------------------------\n",
      "Downloaded TSLA: 2535 trading days\n",
      "Downloaded BND: 2535 trading days\n",
      "Downloaded SPY: 2535 trading days\n"
     ]
    }
   ],
   "source": [
    "# Step 1: Load Historical Data\n",
    "print(\"Step 1: Loading Historical Data\")\n",
    "print(\"-\" * 40)\n",
    "\n",
    "# Define the assets\n",
    "assets = ['TSLA', 'BND', 'SPY']\n",
    "start_date = '2015-07-01'\n",
    "end_date = '2025-07-31'\n",
    "\n",
    "# Download data\n",
    "data = {}\n",
    "for asset in assets:\n",
    "    ticker = yf.Ticker(asset)\n",
    "    data[asset] = ticker.history(start=start_date, end=end_date)\n",
    "    print(f\"Downloaded {asset}: {len(data[asset])} trading days\")"
   ]
  },
  {
   "cell_type": "code",
   "execution_count": 3,
   "id": "b3676b0b",
   "metadata": {},
   "outputs": [
    {
     "name": "stdout",
     "output_type": "stream",
     "text": [
      "\n",
      "Step 2: Calculate Historical Daily Returns\n",
      "---------------------------------------------\n",
      "Returns calculated for period: 2015-07-02 to 2025-07-30\n",
      "Total observations: 2534\n",
      "\n",
      "--- Historical Daily Returns Statistics ---\n",
      "              TSLA          BND          SPY\n",
      "count  2534.000000  2534.000000  2534.000000\n",
      "mean      0.001828     0.000078     0.000575\n",
      "std       0.037285     0.003460     0.011491\n",
      "min      -0.210628    -0.054385    -0.109424\n",
      "25%      -0.017368    -0.001530    -0.003661\n",
      "50%       0.001261     0.000127     0.000645\n",
      "75%       0.019718     0.001782     0.005993\n",
      "max       0.226900     0.042201     0.105019\n"
     ]
    }
   ],
   "source": [
    "# Step 2: Calculate Daily Returns\n",
    "print(\"\\nStep 2: Calculate Historical Daily Returns\")\n",
    "print(\"-\" * 45)\n",
    "\n",
    "returns = pd.DataFrame()\n",
    "for asset in assets:\n",
    "    returns[asset] = data[asset]['Close'].pct_change().dropna()\n",
    "\n",
    "print(f\"Returns calculated for period: {returns.index[0].strftime('%Y-%m-%d')} to {returns.index[-1].strftime('%Y-%m-%d')}\")\n",
    "print(f\"Total observations: {len(returns)}\")\n",
    "\n",
    "# Basic return statistics\n",
    "print(\"\\n--- Historical Daily Returns Statistics ---\")\n",
    "print(returns.describe())"
   ]
  },
  {
   "cell_type": "code",
   "execution_count": 4,
   "id": "336a65d6",
   "metadata": {},
   "outputs": [
    {
     "name": "stdout",
     "output_type": "stream",
     "text": [
      "Expected Annual Returns:\n",
      "TSLA (LSTM Forecast): -0.712 (-71.2%)\n",
      "BND (Historical Avg): 0.020 (2.0%)\n",
      "SPY (Historical Avg): 0.145 (14.5%)\n"
     ]
    }
   ],
   "source": [
    "# TSLA: Use LSTM forecast result (-71.2% annualized)\n",
    "tsla_expected_return = -0.712\n",
    "\n",
    "# BND & SPY: Use historical average returns (annualized)\n",
    "bnd_expected_return = returns['BND'].mean() * 252  # 252 trading days\n",
    "spy_expected_return = returns['SPY'].mean() * 252\n",
    "\n",
    "expected_returns = np.array([tsla_expected_return, bnd_expected_return, spy_expected_return])\n",
    "\n",
    "print(\"Expected Annual Returns:\")\n",
    "print(f\"TSLA (LSTM Forecast): {tsla_expected_return:.3f} ({tsla_expected_return*100:.1f}%)\")\n",
    "print(f\"BND (Historical Avg): {bnd_expected_return:.3f} ({bnd_expected_return*100:.1f}%)\")\n",
    "print(f\"SPY (Historical Avg): {spy_expected_return:.3f} ({spy_expected_return*100:.1f}%)\")\n"
   ]
  },
  {
   "cell_type": "code",
   "execution_count": 5,
   "id": "d10537c8",
   "metadata": {},
   "outputs": [
    {
     "name": "stdout",
     "output_type": "stream",
     "text": [
      "\n",
      "Step 4: Calculate Covariance Matrix\n",
      "-----------------------------------\n",
      "Annualized Covariance Matrix:\n",
      "        TSLA     BND     SPY\n",
      "TSLA  0.3503  0.0019  0.0530\n",
      "BND   0.0019  0.0030  0.0012\n",
      "SPY   0.0530  0.0012  0.0333\n",
      "\n",
      "Correlation Matrix:\n",
      "       TSLA    BND    SPY\n",
      "TSLA  1.000  0.057  0.490\n",
      "BND   0.057  1.000  0.115\n",
      "SPY   0.490  0.115  1.000\n"
     ]
    }
   ],
   "source": [
    "# Step 4: Calculate Covariance Matrix\n",
    "print(\"\\nStep 4: Calculate Covariance Matrix\")\n",
    "print(\"-\" * 35)\n",
    "\n",
    "# Annual covariance matrix (multiply by 252 for annualization)\n",
    "cov_matrix = returns.cov() * 252\n",
    "\n",
    "print(\"Annualized Covariance Matrix:\")\n",
    "print(cov_matrix.round(4))\n",
    "\n",
    "# Correlation matrix for better understanding\n",
    "print(\"\\nCorrelation Matrix:\")\n",
    "corr_matrix = returns.corr()\n",
    "print(corr_matrix.round(3))"
   ]
  },
  {
   "cell_type": "code",
   "execution_count": 6,
   "id": "a952f9ce",
   "metadata": {},
   "outputs": [
    {
     "name": "stdout",
     "output_type": "stream",
     "text": [
      "\n",
      "Step 5: Setting Up Portfolio Optimization\n",
      "-------------------------------------------\n"
     ]
    }
   ],
   "source": [
    "# Step 5: Portfolio Optimization Functions\n",
    "print(\"\\nStep 5: Setting Up Portfolio Optimization\")\n",
    "print(\"-\" * 43)\n",
    "\n",
    "def portfolio_performance(weights, expected_returns, cov_matrix):\n",
    "    \"\"\"Calculate portfolio return and volatility\"\"\"\n",
    "    portfolio_return = np.sum(expected_returns * weights)\n",
    "    portfolio_vol = np.sqrt(np.dot(weights.T, np.dot(cov_matrix, weights)))\n",
    "    return portfolio_return, portfolio_vol\n",
    "\n",
    "def portfolio_sharpe(weights, expected_returns, cov_matrix, risk_free_rate=0.045):\n",
    "    \"\"\"Calculate Sharpe ratio (using 4.5% risk-free rate)\"\"\"\n",
    "    p_ret, p_vol = portfolio_performance(weights, expected_returns, cov_matrix)\n",
    "    return -(p_ret - risk_free_rate) / p_vol  # Negative for minimization\n",
    "\n",
    "def portfolio_volatility(weights, expected_returns, cov_matrix):\n",
    "    \"\"\"Calculate portfolio volatility only\"\"\"\n",
    "    return portfolio_performance(weights, expected_returns, cov_matrix)[1]\n"
   ]
  },
  {
   "cell_type": "code",
   "execution_count": 7,
   "id": "fa83e0ba",
   "metadata": {},
   "outputs": [
    {
     "name": "stdout",
     "output_type": "stream",
     "text": [
      "Step 6: Generating Efficient Frontier\n",
      "--------------------------------------\n",
      "Generated 49 efficient portfolios\n"
     ]
    }
   ],
   "source": [
    "# Step 6: Generate Efficient Frontier\n",
    "print(\"Step 6: Generating Efficient Frontier\")\n",
    "print(\"-\" * 38)\n",
    "\n",
    "# Constraints and bounds\n",
    "constraints = ({'type': 'eq', 'fun': lambda x: np.sum(x) - 1})  # Weights sum to 1\n",
    "bounds = tuple((0, 1) for _ in range(len(assets)))  # No short selling\n",
    "initial_guess = [1/len(assets)] * len(assets)\n",
    "\n",
    "# Generate efficient frontier points\n",
    "target_returns = np.linspace(-0.3, 0.15, 50)  # Range of target returns\n",
    "efficient_portfolios = []\n",
    "\n",
    "for target in target_returns:\n",
    "    # Add return constraint\n",
    "    cons = [constraints,\n",
    "            {'type': 'eq', 'fun': lambda x, target=target: \n",
    "             portfolio_performance(x, expected_returns, cov_matrix)[0] - target}]\n",
    "    \n",
    "    # Minimize volatility for given return\n",
    "    result = minimize(portfolio_volatility, initial_guess,\n",
    "                     args=(expected_returns, cov_matrix),\n",
    "                     method='SLSQP', bounds=bounds, constraints=cons)\n",
    "    \n",
    "    if result.success:\n",
    "        ret, vol = portfolio_performance(result.x, expected_returns, cov_matrix)\n",
    "        efficient_portfolios.append({\n",
    "            'Return': ret,\n",
    "            'Volatility': vol,\n",
    "            'Weights': result.x,\n",
    "            'Sharpe': (ret - 0.045) / vol\n",
    "        })\n",
    "\n",
    "efficient_df = pd.DataFrame(efficient_portfolios)\n",
    "print(f\"Generated {len(efficient_df)} efficient portfolios\")\n"
   ]
  },
  {
   "cell_type": "code",
   "execution_count": 8,
   "id": "f287b767",
   "metadata": {},
   "outputs": [
    {
     "name": "stdout",
     "output_type": "stream",
     "text": [
      "\n",
      "Step 7: Finding Key Portfolios\n",
      "--------------------------------\n",
      "=== KEY PORTFOLIOS IDENTIFIED ===\n",
      "\n",
      "1. Maximum Sharpe Ratio Portfolio:\n",
      "   TSLA: 0.0%\n",
      "   BND:  0.0%\n",
      "   SPY:  100.0%\n",
      "   Expected Return: 14.5%\n",
      "   Volatility: 18.2%\n",
      "   Sharpe Ratio: 0.547\n",
      "\n",
      "2. Minimum Volatility Portfolio:\n",
      "   TSLA: 0.0%\n",
      "   BND:  94.5%\n",
      "   SPY:  5.5%\n",
      "   Expected Return: 2.6%\n",
      "   Volatility: 5.4%\n",
      "   Sharpe Ratio: -0.343\n"
     ]
    }
   ],
   "source": [
    "# Step 7: Find Key Portfolios\n",
    "print(\"\\nStep 7: Finding Key Portfolios\")\n",
    "print(\"-\" * 32)\n",
    "\n",
    "# Maximum Sharpe Ratio Portfolio\n",
    "max_sharpe_result = minimize(portfolio_sharpe, initial_guess,\n",
    "                           args=(expected_returns, cov_matrix),\n",
    "                           method='SLSQP', bounds=bounds, constraints=constraints)\n",
    "\n",
    "max_sharpe_weights = max_sharpe_result.x\n",
    "max_sharpe_return, max_sharpe_vol = portfolio_performance(max_sharpe_weights, expected_returns, cov_matrix)\n",
    "max_sharpe_ratio = (max_sharpe_return - 0.045) / max_sharpe_vol\n",
    "\n",
    "# Minimum Volatility Portfolio\n",
    "min_vol_result = minimize(portfolio_volatility, initial_guess,\n",
    "                         args=(expected_returns, cov_matrix),\n",
    "                         method='SLSQP', bounds=bounds, constraints=constraints)\n",
    "\n",
    "min_vol_weights = min_vol_result.x\n",
    "min_vol_return, min_vol_vol = portfolio_performance(min_vol_weights, expected_returns, cov_matrix)\n",
    "min_vol_sharpe = (min_vol_return - 0.045) / min_vol_vol\n",
    "\n",
    "print(\"=== KEY PORTFOLIOS IDENTIFIED ===\")\n",
    "print(\"\\n1. Maximum Sharpe Ratio Portfolio:\")\n",
    "print(f\"   TSLA: {max_sharpe_weights[0]:.1%}\")\n",
    "print(f\"   BND:  {max_sharpe_weights[1]:.1%}\")\n",
    "print(f\"   SPY:  {max_sharpe_weights[2]:.1%}\")\n",
    "print(f\"   Expected Return: {max_sharpe_return:.1%}\")\n",
    "print(f\"   Volatility: {max_sharpe_vol:.1%}\")\n",
    "print(f\"   Sharpe Ratio: {max_sharpe_ratio:.3f}\")\n",
    "\n",
    "print(\"\\n2. Minimum Volatility Portfolio:\")\n",
    "print(f\"   TSLA: {min_vol_weights[0]:.1%}\")\n",
    "print(f\"   BND:  {min_vol_weights[1]:.1%}\")\n",
    "print(f\"   SPY:  {min_vol_weights[2]:.1%}\")\n",
    "print(f\"   Expected Return: {min_vol_return:.1%}\")\n",
    "print(f\"   Volatility: {min_vol_vol:.1%}\")\n",
    "print(f\"   Sharpe Ratio: {min_vol_sharpe:.3f}\")\n"
   ]
  },
  {
   "cell_type": "code",
   "execution_count": 9,
   "id": "e38a4d44",
   "metadata": {},
   "outputs": [
    {
     "name": "stdout",
     "output_type": "stream",
     "text": [
      "\n",
      "Step 8: Creating Efficient Frontier Visualization\n",
      "------------------------------------------------\n"
     ]
    },
    {
     "data": {
      "image/png": "[encoded data removed]",
      "text/plain": [
       "<Figure size 1500x600 with 2 Axes>"
      ]
     },
     "metadata": {},
     "output_type": "display_data"
    }
   ],
   "source": [
    "# Step 8: Visualization\n",
    "print(\"\\nStep 8: Creating Efficient Frontier Visualization\")\n",
    "print(\"-\" * 48)\n",
    "\n",
    "fig, (ax1, ax2) = plt.subplots(1, 2, figsize=(15, 6))\n",
    "\n",
    "# Plot 1: Efficient Frontier\n",
    "ax1.plot(efficient_df['Volatility'], efficient_df['Return'], 'b-', linewidth=2, label='Efficient Frontier')\n",
    "ax1.scatter(max_sharpe_vol, max_sharpe_return, marker='*', color='red', s=200, label='Max Sharpe Ratio')\n",
    "ax1.scatter(min_vol_vol, min_vol_return, marker='*', color='green', s=200, label='Min Volatility')\n",
    "\n",
    "# Individual assets\n",
    "for i, asset in enumerate(assets):\n",
    "    vol = np.sqrt(cov_matrix.iloc[i, i])\n",
    "    ret = expected_returns[i]\n",
    "    ax1.scatter(vol, ret, marker='o', s=100, label=asset)\n",
    "    ax1.annotate(asset, (vol, ret), xytext=(5, 5), textcoords='offset points')\n",
    "\n",
    "ax1.set_xlabel('Volatility (Risk)')\n",
    "ax1.set_ylabel('Expected Return')\n",
    "ax1.set_title('Efficient Frontier')\n",
    "ax1.legend()\n",
    "ax1.grid(True, alpha=0.3)\n",
    "\n",
    "# Plot 2: Portfolio Weights Comparison\n",
    "weights_df = pd.DataFrame({\n",
    "    'Max Sharpe': max_sharpe_weights,\n",
    "    'Min Volatility': min_vol_weights\n",
    "}, index=assets)\n",
    "\n",
    "weights_df.plot(kind='bar', ax=ax2, width=0.8)\n",
    "ax2.set_title('Portfolio Weights Comparison')\n",
    "ax2.set_ylabel('Weight')\n",
    "ax2.set_xticklabels(assets, rotation=0)\n",
    "ax2.legend()\n",
    "ax2.grid(True, alpha=0.3)\n",
    "\n",
    "plt.tight_layout()\n",
    "plt.show()"
   ]
  },
  {
   "cell_type": "code",
   "execution_count": 10,
   "id": "3280f731",
   "metadata": {},
   "outputs": [
    {
     "name": "stdout",
     "output_type": "stream",
     "text": [
      "\n",
      "Step 9: Final Portfolio Recommendation\n",
      "---------------------------------------\n",
      "=== RECOMMENDED OPTIMAL PORTFOLIO ===\n",
      "\n",
      "Recommendation: MINIMUM VOLATILITY PORTFOLIO\n",
      "Rationale: Given TSLA's strongly negative forecast (-71.2% expected return),\n",
      "           we prioritize capital preservation over return maximization.\n",
      "\n",
      "Optimal Portfolio Allocation:\n",
      "• Tesla (TSLA):     0.0%\n",
      "• Bonds (BND):      94.5%\n",
      "• S&P 500 (SPY):    5.5%\n",
      "\n",
      "Expected Portfolio Metrics:\n",
      "• Expected Annual Return: 2.6%\n",
      "• Annual Volatility:      5.4%\n",
      "• Sharpe Ratio:           -0.343\n",
      "\n",
      "Key Insights:\n",
      "1. Minimal TSLA allocation due to negative forecast\n",
      "2. Heavy weighting toward stable assets (BND + SPY)\n",
      "3. Focus on capital preservation and risk management\n",
      "4. Low but positive expected returns with controlled risk\n",
      "\n",
      "Risk Assessment:\n",
      "• 95% VaR (daily): -0.549%\n",
      "• Maximum expected daily loss: -0.67%\n"
     ]
    }
   ],
   "source": [
    "# Step 9: Final Recommendation\n",
    "print(\"\\nStep 9: Final Portfolio Recommendation\")\n",
    "print(\"-\" * 39)\n",
    "\n",
    "# Given TSLA's negative forecast, recommend minimum volatility approach\n",
    "recommended_weights = min_vol_weights\n",
    "recommended_return = min_vol_return\n",
    "recommended_vol = min_vol_vol\n",
    "recommended_sharpe = min_vol_sharpe\n",
    "\n",
    "print(\"=== RECOMMENDED OPTIMAL PORTFOLIO ===\")\n",
    "print(\"\\nRecommendation: MINIMUM VOLATILITY PORTFOLIO\")\n",
    "print(\"Rationale: Given TSLA's strongly negative forecast (-71.2% expected return),\")\n",
    "print(\"           we prioritize capital preservation over return maximization.\")\n",
    "print()\n",
    "print(\"Optimal Portfolio Allocation:\")\n",
    "print(f\"• Tesla (TSLA):     {recommended_weights[0]:.1%}\")\n",
    "print(f\"• Bonds (BND):      {recommended_weights[1]:.1%}\")  \n",
    "print(f\"• S&P 500 (SPY):    {recommended_weights[2]:.1%}\")\n",
    "print()\n",
    "print(\"Expected Portfolio Metrics:\")\n",
    "print(f\"• Expected Annual Return: {recommended_return:.1%}\")\n",
    "print(f\"• Annual Volatility:      {recommended_vol:.1%}\")\n",
    "print(f\"• Sharpe Ratio:           {recommended_sharpe:.3f}\")\n",
    "print()\n",
    "print(\"Key Insights:\")\n",
    "print(\"1. Minimal TSLA allocation due to negative forecast\")\n",
    "print(\"2. Heavy weighting toward stable assets (BND + SPY)\")\n",
    "print(\"3. Focus on capital preservation and risk management\")\n",
    "print(\"4. Low but positive expected returns with controlled risk\")\n",
    "\n",
    "# Risk metrics\n",
    "print(f\"\\nRisk Assessment:\")\n",
    "print(f\"• 95% VaR (daily): {recommended_return/252 - 1.645*recommended_vol/np.sqrt(252):.3%}\")\n",
    "print(f\"• Maximum expected daily loss: {(recommended_return/252 - 2*recommended_vol/np.sqrt(252))*100:.2f}%\")"
   ]
  }
 ],
 "metadata": {
  "kernelspec": {
   "display_name": "venv",
   "language": "python",
   "name": "python3"
  },
  "language_info": {
   "codemirror_mode": {
    "name": "ipython",
    "version": 3
   },
   "file_extension": ".py",
   "mimetype": "text/x-python",
   "name": "python",
   "nbconvert_exporter": "python",
   "pygments_lexer": "ipython3",
   "version": "3.10.0"
  }
 },
 "nbformat": 4,
 "nbformat_minor": 5
}
